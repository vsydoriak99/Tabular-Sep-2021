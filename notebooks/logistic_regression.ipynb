{
 "cells": [
  {
   "cell_type": "code",
   "execution_count": 298,
   "source": [
    "import numpy as np\r\n",
    "import pandas as pd\r\n",
    "import matplotlib.pyplot as plt\r\n",
    "import seaborn as sns\r\n",
    "\r\n",
    "from sklearn import model_selection, linear_model, metrics, pipeline, preprocessing, impute\r\n"
   ],
   "outputs": [],
   "metadata": {}
  },
  {
   "cell_type": "markdown",
   "source": [
    "Імпорт даних: для зручності роботи виділимо цільовий стовбець в окремий обєкт. "
   ],
   "metadata": {}
  },
  {
   "cell_type": "code",
   "execution_count": 299,
   "source": [
    "path_data='D:/kaggle-competetions/Tabular-Sep-2021/data'\r\n",
    "X_test = pd.read_csv(path_data+'/test.csv')\r\n",
    "train_df = pd.read_csv(path_data+'/train.csv')\r\n",
    "\r\n",
    "\r\n",
    "y_train = train_df[train_df.columns[-1]]\r\n",
    "X_train = train_df.drop(train_df.columns[-1], axis=1)\r\n",
    "print(f'Test shape: {X_test.shape}, X_train shape: {X_train.shape}, y_train shape: {y_train.shape}')\r\n",
    "print(f'Count of null-values: {X_train.isna().sum().sum()}')"
   ],
   "outputs": [
    {
     "output_type": "stream",
     "name": "stdout",
     "text": [
      "Test shape: (493474, 119), X_train shape: (957919, 119), y_train shape: (957919,)\n",
      "Count of null-values: 1820782\n"
     ]
    }
   ],
   "metadata": {}
  },
  {
   "cell_type": "markdown",
   "source": [
    "# Simple data preparing"
   ],
   "metadata": {}
  },
  {
   "cell_type": "markdown",
   "source": [
    "Додамо змінну з кількістю відсутніх обєктів в рядку"
   ],
   "metadata": {}
  },
  {
   "cell_type": "code",
   "execution_count": 301,
   "source": [
    "X_train['n_missing'] = X_train.isna().sum(axis=1)\r\n",
    "X_test['n_missing'] = X_test.isna().sum(axis=1)"
   ],
   "outputs": [],
   "metadata": {}
  },
  {
   "cell_type": "markdown",
   "source": [
    "Використаємо **SimpleImputer**, щоб заповнити Nan-value в нашому датасеті. Важливо, що fit_transform() повертає **ndarray**, а не pd.DataFrame, тому згодом, щоб застосовувати методи з pd.DataFrame, обєкт потрібно буде привести до цього типу. "
   ],
   "metadata": {}
  },
  {
   "cell_type": "code",
   "execution_count": 303,
   "source": [
    "columns_for_pred  = X_train.columns\r\n",
    "columns_for_pred"
   ],
   "outputs": [
    {
     "output_type": "execute_result",
     "data": {
      "text/plain": [
       "Index(['id', 'f1', 'f2', 'f3', 'f4', 'f5', 'f6', 'f7', 'f8', 'f9',\n",
       "       ...\n",
       "       'f110', 'f111', 'f112', 'f113', 'f114', 'f115', 'f116', 'f117', 'f118',\n",
       "       'n_missing'],\n",
       "      dtype='object', length=120)"
      ]
     },
     "metadata": {},
     "execution_count": 303
    }
   ],
   "metadata": {}
  },
  {
   "cell_type": "code",
   "execution_count": 304,
   "source": [
    "si = impute.SimpleImputer()\r\n",
    "\r\n",
    "X_train =  si.fit_transform(X_train)\r\n",
    "X_test =  si.fit_transform(X_test)"
   ],
   "outputs": [],
   "metadata": {}
  },
  {
   "cell_type": "markdown",
   "source": [
    "Використаємо StandardScaler(), щоб масштабувати змінні: для цього "
   ],
   "metadata": {}
  },
  {
   "cell_type": "code",
   "execution_count": 308,
   "source": [
    "scaler = preprocessing.StandardScaler()\r\n",
    "scaler.fit(X_train)\r\n",
    "X_train = pd.DataFrame(scaler.transform(X_train), columns=columns_for_pred)\r\n",
    "X_test = pd.DataFrame(scaler.transform(X_test), columns=columns_for_pred)"
   ],
   "outputs": [],
   "metadata": {}
  },
  {
   "cell_type": "code",
   "execution_count": 309,
   "source": [
    "print(f'Count of null-values: {X_train.isna().sum().sum()}')"
   ],
   "outputs": [
    {
     "output_type": "stream",
     "name": "stdout",
     "text": [
      "Count of null-values: 0\n"
     ]
    }
   ],
   "metadata": {}
  },
  {
   "cell_type": "markdown",
   "source": [
    "# Logistic regression "
   ],
   "metadata": {}
  },
  {
   "cell_type": "code",
   "execution_count": 312,
   "source": [
    "simple_regressor = linear_model.LogisticRegressionCV(random_state=0)\r\n",
    "simple_regressor.get_params()"
   ],
   "outputs": [
    {
     "output_type": "execute_result",
     "data": {
      "text/plain": [
       "{'Cs': 10,\n",
       " 'class_weight': None,\n",
       " 'cv': None,\n",
       " 'dual': False,\n",
       " 'fit_intercept': True,\n",
       " 'intercept_scaling': 1.0,\n",
       " 'l1_ratios': None,\n",
       " 'max_iter': 100,\n",
       " 'multi_class': 'auto',\n",
       " 'n_jobs': None,\n",
       " 'penalty': 'l2',\n",
       " 'random_state': 0,\n",
       " 'refit': True,\n",
       " 'scoring': None,\n",
       " 'solver': 'lbfgs',\n",
       " 'tol': 0.0001,\n",
       " 'verbose': 0}"
      ]
     },
     "metadata": {},
     "execution_count": 312
    }
   ],
   "metadata": {}
  },
  {
   "cell_type": "markdown",
   "source": [
    "Спроба використати логістичну регресію з крос-валідацією "
   ],
   "metadata": {}
  },
  {
   "cell_type": "code",
   "execution_count": 313,
   "source": [
    "%%time\r\n",
    "simple_regressor.fit(X = X_train, y= y_train)"
   ],
   "outputs": [],
   "metadata": {}
  },
  {
   "cell_type": "code",
   "execution_count": null,
   "source": [
    "simple_regressor.get_params()"
   ],
   "outputs": [
    {
     "output_type": "execute_result",
     "data": {
      "text/plain": [
       "{'Cs': 10,\n",
       " 'class_weight': None,\n",
       " 'cv': None,\n",
       " 'dual': False,\n",
       " 'fit_intercept': True,\n",
       " 'intercept_scaling': 1.0,\n",
       " 'l1_ratios': None,\n",
       " 'max_iter': 100,\n",
       " 'multi_class': 'auto',\n",
       " 'n_jobs': None,\n",
       " 'penalty': 'l2',\n",
       " 'random_state': 0,\n",
       " 'refit': True,\n",
       " 'scoring': None,\n",
       " 'solver': 'lbfgs',\n",
       " 'tol': 0.0001,\n",
       " 'verbose': 0}"
      ]
     },
     "metadata": {},
     "execution_count": 76
    }
   ],
   "metadata": {}
  },
  {
   "cell_type": "code",
   "execution_count": null,
   "source": [
    "predicted_values = simple_regressor.predict(X_train)\r\n",
    "predicted_proba = simple_regressor.predict_proba(X_train)[:,1]"
   ],
   "outputs": [],
   "metadata": {}
  },
  {
   "cell_type": "code",
   "execution_count": null,
   "source": [
    "print(f'confusion_matrix: {metrics.confusion_matrix(y_train, predicted_values)}')\r\n",
    "print(f'accuracy_score: {metrics.accuracy_score(y_train, predicted_values)}')\r\n",
    "\r\n",
    "\r\n",
    "print(f'recall_score: {metrics.recall_score(y_train, predicted_values)}')\r\n",
    "print(f'precision_score: {metrics.precision_score(y_train, predicted_values)}')\r\n",
    "\r\n",
    "print(f'f1_score: {metrics.f1_score(y_train, predicted_values)}')\r\n",
    "\r\n",
    "print(f'roc_auc_score: {metrics.roc_auc_score(y_train, predicted_proba)}')"
   ],
   "outputs": [
    {
     "output_type": "stream",
     "name": "stdout",
     "text": [
      "confusion_matrix: [[373951 106453]\n",
      " [144616 332899]]\n",
      "accuracy_score: 0.7379016388650815\n",
      "recall_score: 0.6971487806665759\n",
      "precision_score: 0.7577045284874088\n",
      "f1_score: 0.7261663905451936\n",
      "roc_auc_score: 0.7992721749279486\n",
      "precision_recall_curve: (array([0.49849413, 0.4984936 , 0.49849412, ..., 0.        , 0.        ,\n",
      "       1.        ]), array([1.        , 0.99999791, 0.99999791, ..., 0.        , 0.        ,\n",
      "       0.        ]), array([0.1678683 , 0.16813772, 0.16842743, ..., 0.9990535 , 0.99907623,\n",
      "       0.99915887]))\n"
     ]
    }
   ],
   "metadata": {}
  },
  {
   "cell_type": "markdown",
   "source": [
    "# Make Submission! "
   ],
   "metadata": {}
  },
  {
   "cell_type": "code",
   "execution_count": null,
   "source": [
    "predictes_for_test = simple_regressor.predict_proba(X_test)"
   ],
   "outputs": [],
   "metadata": {}
  },
  {
   "cell_type": "code",
   "execution_count": null,
   "source": [
    "submission = pd.DataFrame({'id': pd.read_csv(path_data+'/test.csv', usecols=['id'])['id'], 'claim': predictes_for_test[:,1]})\r\n",
    "submission.to_csv('log_red.csv' ,index = 0)"
   ],
   "outputs": [],
   "metadata": {}
  }
 ],
 "metadata": {
  "orig_nbformat": 4,
  "language_info": {
   "name": "python",
   "version": "3.9.6",
   "mimetype": "text/x-python",
   "codemirror_mode": {
    "name": "ipython",
    "version": 3
   },
   "pygments_lexer": "ipython3",
   "nbconvert_exporter": "python",
   "file_extension": ".py"
  },
  "kernelspec": {
   "name": "python3",
   "display_name": "Python 3.9.6 64-bit"
  },
  "interpreter": {
   "hash": "8deac56f531bb2fe423258a5bfb976a0a16d5ec83f5071851f095a4df5c8843b"
  }
 },
 "nbformat": 4,
 "nbformat_minor": 2
}